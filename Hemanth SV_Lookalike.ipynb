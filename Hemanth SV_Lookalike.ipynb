{
 "cells": [
  {
   "cell_type": "code",
   "execution_count": null,
   "id": "e0aa4c74-d3f4-4179-a7e8-cb37aaa79406",
   "metadata": {},
   "outputs": [],
   "source": [
    "import pandas as pd\n",
    "from sklearn.metrics.pairwise import cosine_similarity\n",
    "from sklearn.preprocessing import StandardScaler\n",
    "import warnings\n",
    "warnings.filterwarnings('ignore')\n",
    "customers = pd.read_csv('Customers.csv')\n",
    "products = pd.read_csv('Products.csv')\n",
    "transactions = pd.read_csv('Transactions.csv')\n",
    "\n",
    "\n",
    "merged = transactions.merge(products, on='ProductID').merge(customers, on='CustomerID')\n",
    "\n",
    "\n",
    "customer_features = merged.groupby('CustomerID').agg({\n",
    "    'Price': 'sum',              # Total expenditure\n",
    "    'Quantity': 'sum',           # Total quantity purchased\n",
    "    'ProductID': 'nunique'       # Number of unique products purchased\n",
    "}).reset_index()\n",
    "\n",
    "\n",
    "scaler = StandardScaler()\n",
    "scaled_features = scaler.fit_transform(customer_features.iloc[:, 1:])\n",
    "\n",
    "\n",
    "similarity_matrix = cosine_similarity(scaled_features)\n",
    "\n",
    "\n",
    "lookalike_map = {}\n",
    "customer_ids = customer_features['CustomerID'].tolist()\n",
    "\n",
    "for idx, customer_id in enumerate(customer_ids[:20]):\n",
    "   \n",
    "    similarity_scores = list(enumerate(similarity_matrix[idx]))\n",
    "    \n",
    "   \n",
    "    similar_customers = sorted(similarity_scores, key=lambda x: x[1], reverse=True)\n",
    "    similar_customers = [(customer_ids[i], score) for i, score in similar_customers if customer_ids[i] != customer_id]\n",
    "    \n",
    "   \n",
    "    lookalike_map[customer_id] = similar_customers[:3]\n",
    "\n",
    "\n",
    "lookalike_df = pd.DataFrame({\n",
    "    'CustomerID': lookalike_map.keys(),\n",
    "    'Lookalikes': [', '.join([f\"({cust}, {score:.2f})\" for cust, score in lookalikes]) for lookalikes in lookalike_map.values()]\n",
    "})\n",
    "lookalike_df.to_csv('Lookalike.csv', index=False)\n",
    "\n",
    "print(\"Lookalike.csv has been generated successfully.\")"
   ]
  }
 ],
 "metadata": {
  "kernelspec": {
   "display_name": "Python 3 (ipykernel)",
   "language": "python",
   "name": "python3"
  },
  "language_info": {
   "codemirror_mode": {
    "name": "ipython",
    "version": 3
   },
   "file_extension": ".py",
   "mimetype": "text/x-python",
   "name": "python",
   "nbconvert_exporter": "python",
   "pygments_lexer": "ipython3",
   "version": "3.12.4"
  }
 },
 "nbformat": 4,
 "nbformat_minor": 5
}
